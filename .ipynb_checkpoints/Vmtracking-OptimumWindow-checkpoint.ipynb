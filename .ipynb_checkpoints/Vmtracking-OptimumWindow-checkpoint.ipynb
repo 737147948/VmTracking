{
 "metadata": {
  "name": "",
  "signature": "sha256:4f422dc60eb79a8d73441a3d666d87d92b3c889cf4ea71ee3078836d043f3f45"
 },
 "nbformat": 3,
 "nbformat_minor": 0,
 "worksheets": [
  {
   "cells": [
    {
     "cell_type": "code",
     "collapsed": false,
     "input": [
      "import numpy as np\n",
      "import scipy as sp\n",
      "import matplotlib.pyplot as plt\n",
      "import scipy.stats as st\n",
      "from joblib import Parallel, delayed\n",
      "%matplotlib inline\n",
      "plt.style.use('ggplot')"
     ],
     "language": "python",
     "metadata": {},
     "outputs": [],
     "prompt_number": 1
    },
    {
     "cell_type": "code",
     "collapsed": false,
     "input": [
      "def Brownian(t,sig):\n",
      "    x=np.random.randn(len(t)-1)\n",
      "    path=np.empty(len(t))\n",
      "    path[0]=0\n",
      "    for i in xrange(1,len(t)):\n",
      "        deltaT=t[i]-t[i-1]\n",
      "        sqrT=np.sqrt(deltaT)\n",
      "        path[i]=path[i-1]+sqrT*sig*x[i-1]#construct euler path\n",
      "    return path\n",
      "def GetSimulation(t,sig,sample):\n",
      "    Median=np.empty(sample)\n",
      "    Av=np.empty(sample)\n",
      "    for i in range(sample):\n",
      "        path=Brownian(t,sig)\n",
      "        Median[i]=np.median(path);\n",
      "        Av[i]=np.mean(path)\n",
      "    stats['Median']=Median\n",
      "    stats['Mean']=Av\n",
      "    return  stats\n",
      "def GetError(t,sig,sample):\n",
      "    error=np.empty((sample,len(t)))\n",
      "    for i in range(sample):\n",
      "        path=Brownian(t,sig)\n",
      "        error[i,:]=path-np.mean(path);\n",
      "    return error  \n",
      "def GetErrorMedian(t,sig,sample):\n",
      "    error=np.empty((sample,len(t)))\n",
      "    for i in range(sample):\n",
      "        path=Brownian(t,sig)\n",
      "        error[i,:]=path-np.median(path);\n",
      "    return error \n",
      "def SErrSimu(t,sigs,sample,output,i):\n",
      "    #get three row, the 0: mean, 1:std;2:relative std\n",
      "    res=GetSimulation(t,sigs[i],sample);\n",
      "    Error=res['Median']-res['Mean'];\n",
      "    output[0,i]=np.mean(Error);\n",
      "    output[1,i]=np.std(Error);\n",
      "    output[2,i]=output[1,i]/np.std(res['Median']);\n",
      "    print('finished %s'%i)\n",
      "'''    \n",
      "Parallel(n_jobs=4)(delayed(sum_row)(samples, sums, i)\n",
      "   \n",
      "   for i in range(samples.shape[0]))\n",
      "'''\n",
      "def optimumWindow(t,sigs,sample,path,ref):\n",
      "    Mid=int(len(t)/2);\n",
      "    err=np.empty(Mid)\n",
      "    for i in range(0,Mid):\n",
      "        left=Mid-i;\n",
      "        right=Mid+i+1;\n",
      "        TotalPoint=2*i+1;\n",
      "        err[=np.mean(path[left:right])/TotalPoint\n",
      "    \n",
      "def ErrorSimulation(t,sigs,sample):\n",
      "    #get the error in every simulation at eversig; compute the average and std.\n",
      "    #compute the std of Medinane, stor it in the series, plot it as graph\n",
      "    output=np.empty((3,len(sigs)),dtype=float)\n",
      "    #meanErr=np.empty(len(sigs))\n",
      "    #stdErr=np.empty(len(sigs))\n",
      "    #relativeErr=np.empty(len(sigs))\n",
      "    i=0\n",
      "    Parallel(n_jobs=-1)(delayed(SErrSimu)(t,sigs,sample,output,i) for i in range(len(sigs)))\n",
      "    return output\n",
      "    #Get The simulation in the parrled ways\n",
      "#    for sig in sigs:\n",
      " #       res=GetSimulation(t,sig,sample)\n",
      " #       Error=res['Median']-res['Mean'];\n",
      " #       meanErr[i]=np.mean(Error);\n",
      " #       stdErr[i]=np.mean(Error);\n",
      "  #      i++;"
     ],
     "language": "python",
     "metadata": {},
     "outputs": [
      {
       "ename": "SyntaxError",
       "evalue": "invalid syntax (<ipython-input-6-ba00e141a8c2>, line 51)",
       "output_type": "pyerr",
       "traceback": [
        "\u001b[1;36m  File \u001b[1;32m\"<ipython-input-6-ba00e141a8c2>\"\u001b[1;36m, line \u001b[1;32m51\u001b[0m\n\u001b[1;33m    TotalPoint=2i+1\u001b[0m\n\u001b[1;37m                ^\u001b[0m\n\u001b[1;31mSyntaxError\u001b[0m\u001b[1;31m:\u001b[0m invalid syntax\n"
       ]
      }
     ],
     "prompt_number": 6
    },
    {
     "cell_type": "markdown",
     "metadata": {},
     "source": [
      "#This is the distribution of Meidan and average\n",
      "without the exsistance of s^2/t-s+t/3-2"
     ]
    },
    {
     "cell_type": "code",
     "collapsed": false,
     "input": [
      "T=60\n",
      "t=range(0,T)\n",
      "sig=1\n",
      "sample=10000\n",
      "S=Brownian(t,sig)\n",
      "#stats=GetSimulation(t,sig,sample)\n",
      "err=GetError(t,sig,sample)\n"
     ],
     "language": "python",
     "metadata": {},
     "outputs": []
    },
    {
     "cell_type": "code",
     "collapsed": false,
     "input": [
      "theory=np.power(t,2)/T-t+T/3\n",
      "errMedian= GetErrorMedian(t,sig,sample)"
     ],
     "language": "python",
     "metadata": {},
     "outputs": []
    },
    {
     "cell_type": "code",
     "collapsed": false,
     "input": [
      "x=range(0,10)\n",
      "tmp=x[1:3]\n",
      "print tmp"
     ],
     "language": "python",
     "metadata": {},
     "outputs": [
      {
       "output_type": "stream",
       "stream": "stdout",
       "text": [
        "[1, 2]\n"
       ]
      }
     ],
     "prompt_number": 5
    },
    {
     "cell_type": "markdown",
     "metadata": {},
     "source": [
      "#ploting"
     ]
    },
    {
     "cell_type": "code",
     "collapsed": false,
     "input": [
      "fig=plt.figure()\n",
      "fig.add_subplot(1,1,1)\n",
      "#plt.plot(range(len(err)),err)\n",
      "plt.plot(np.std(err, axis=0))\n",
      "plt.plot(np.mean(err,axis=0))\n",
      "plt.plot(np.sqrt(theory))\n",
      "plt.plot(np.std(errMedian,axis=0))"
     ],
     "language": "python",
     "metadata": {},
     "outputs": [
      {
       "metadata": {},
       "output_type": "pyout",
       "prompt_number": 7,
       "text": [
        "[<matplotlib.lines.Line2D at 0xbe12ef0>]"
       ]
      },
      {
       "metadata": {},
       "output_type": "display_data",
       "png": "[encoded data removed]",
       "text": [
        "<matplotlib.figure.Figure at 0xbc07790>"
       ]
      }
     ],
     "prompt_number": 7
    },
    {
     "cell_type": "code",
     "collapsed": false,
     "input": [],
     "language": "python",
     "metadata": {},
     "outputs": [
      {
       "metadata": {},
       "output_type": "pyout",
       "prompt_number": 17,
       "text": [
        "[<matplotlib.lines.Line2D at 0x98b3550>]"
       ]
      },
      {
       "metadata": {},
       "output_type": "display_data",
       "png": "[encoded data removed]",
       "text": [
        "<matplotlib.figure.Figure at 0x99274d0>"
       ]
      }
     ],
     "prompt_number": 17
    },
    {
     "cell_type": "markdown",
     "metadata": {},
     "source": [
      "#HistoGram For Medane and Average\n",
      "It is normal that the standar deviation of average is around 20. According to generlised  TCL, Var(AX)=A. It is the sum of square,so that the average (1+1/n)*(2n+1)/6. , the skew is 0, the kurtosis for mediane is less than 3, Because it concentrate. Actually Mediane is more robust in practice. "
     ]
    },
    {
     "cell_type": "code",
     "collapsed": false,
     "input": [
      "fig1,axes1=plt.subplots(2,1,sharex=True,sharey=True)\n",
      "axes1[1].hist(stats['Median'],bins=300,label='Median')\n",
      "axes1[0].hist(stats['Mean'],bins=300,color='k',label='Mean')\n",
      "axes1[0].legend()\n",
      "axes1[1].legend()"
     ],
     "language": "python",
     "metadata": {},
     "outputs": [
      {
       "metadata": {},
       "output_type": "pyout",
       "prompt_number": 10,
       "text": [
        "<matplotlib.legend.Legend at 0x10f1d4f0>"
       ]
      },
      {
       "metadata": {},
       "output_type": "display_data",
       "png": "[encoded data removed]",
       "text": [
        "<matplotlib.figure.Figure at 0xe7f8170>"
       ]
      }
     ],
     "prompt_number": 10
    },
    {
     "cell_type": "code",
     "collapsed": false,
     "input": [
      "\n",
      "np.std(stats['Mean'])# the theoritical 400/3=11.54\n",
      "st.kurtosis(stats['Mean'])\n",
      "st.kurtosis(stats['Median'])\n",
      "st.mstats.kurtosistest(stats['Median'])"
     ],
     "language": "python",
     "metadata": {},
     "outputs": [
      {
       "metadata": {},
       "output_type": "pyout",
       "prompt_number": 49,
       "text": [
        "(7.37973424501791, 1.5860579898030107e-13)"
       ]
      }
     ],
     "prompt_number": 49
    },
    {
     "cell_type": "code",
     "collapsed": false,
     "input": [
      "np.mean(stats['Mean'])\n",
      "np.mean(stats['Median'])\n",
      "np.std(stats['Mean'])# the theoritical 400/3=11.54\n",
      "np.std(stats['Median'])\n",
      "st.kurtosis(stats['Mean'])\n",
      "st.kurtosis(stats['Median'])\n"
     ],
     "language": "python",
     "metadata": {},
     "outputs": [
      {
       "metadata": {},
       "output_type": "pyout",
       "prompt_number": 16,
       "text": [
        "0.3758557325577039"
       ]
      }
     ],
     "prompt_number": 16
    },
    {
     "cell_type": "markdown",
     "metadata": {},
     "source": [
      "# This section is to justify the approximation of mediane by average"
     ]
    },
    {
     "cell_type": "code",
     "collapsed": false,
     "input": [
      "Error=stats['Median']-stats['Mean']"
     ],
     "language": "python",
     "metadata": {},
     "outputs": [],
     "prompt_number": 51
    },
    {
     "cell_type": "code",
     "collapsed": false,
     "input": [
      "fig2,axes2=plt.subplots(1,1)\n",
      "axes2.hist(Error,bins=300)"
     ],
     "language": "python",
     "metadata": {},
     "outputs": [
      {
       "metadata": {},
       "output_type": "pyout",
       "prompt_number": 53,
       "text": [
        "(array([   1.,    0.,    0.,    0.,    1.,    0.,    0.,    0.,    0.,\n",
        "           0.,    0.,    0.,    0.,    0.,    0.,    0.,    0.,    0.,\n",
        "           0.,    0.,    0.,    0.,    0.,    0.,    0.,    0.,    0.,\n",
        "           0.,    1.,    0.,    0.,    0.,    0.,    0.,    0.,    1.,\n",
        "           0.,    0.,    0.,    0.,    0.,    0.,    1.,    1.,    0.,\n",
        "           1.,    1.,    0.,    1.,    2.,    1.,    1.,    1.,    3.,\n",
        "           0.,    2.,    2.,    0.,    0.,    1.,    2.,    3.,    4.,\n",
        "           3.,    3.,    4.,    2.,    4.,    1.,    1.,    6.,    4.,\n",
        "           3.,    1.,    6.,    4.,    7.,    2.,    5.,    6.,    2.,\n",
        "           9.,    5.,   12.,    7.,    7.,    5.,   10.,    9.,    8.,\n",
        "          10.,   16.,    8.,   13.,   13.,    9.,    9.,   20.,   15.,\n",
        "          17.,   23.,   25.,   22.,   10.,   17.,   17.,   29.,   26.,\n",
        "          19.,   28.,   32.,   32.,   37.,   40.,   41.,   51.,   40.,\n",
        "          48.,   53.,   52.,   61.,   65.,   72.,   67.,   85.,   77.,\n",
        "          88.,   85.,   95.,  106.,   99.,  104.,  118.,  129.,  157.,\n",
        "         149.,  189.,  167.,  174.,  216.,  233.,  230.,  253.,  242.,\n",
        "         274.,  268.,  283.,  314.,  286.,  269.,  230.,  247.,  221.,\n",
        "         208.,  194.,  173.,  184.,  138.,  137.,  148.,  144.,  130.,\n",
        "         106.,  128.,   93.,   71.,   92.,   76.,   67.,   72.,   66.,\n",
        "          86.,   53.,   57.,   58.,   49.,   53.,   34.,   43.,   47.,\n",
        "          39.,   36.,   40.,   31.,   24.,   23.,   32.,   29.,   22.,\n",
        "          24.,   24.,   19.,   16.,   20.,   19.,   15.,   12.,   18.,\n",
        "          15.,   11.,    9.,   14.,   10.,   15.,   12.,   14.,    5.,\n",
        "          12.,    9.,    8.,    6.,    6.,    7.,    5.,    6.,    7.,\n",
        "           6.,    5.,    4.,    7.,    4.,    4.,    3.,    2.,    2.,\n",
        "           3.,    4.,    4.,    2.,    4.,    1.,    1.,    3.,    2.,\n",
        "           1.,    0.,    1.,    1.,    2.,    3.,    0.,    0.,    2.,\n",
        "           0.,    2.,    1.,    1.,    2.,    0.,    0.,    0.,    3.,\n",
        "           0.,    0.,    1.,    1.,    0.,    0.,    0.,    0.,    0.,\n",
        "           0.,    1.,    0.,    0.,    0.,    0.,    0.,    0.,    1.,\n",
        "           1.,    0.,    0.,    0.,    1.,    0.,    0.,    0.,    0.,\n",
        "           0.,    0.,    0.,    0.,    0.,    0.,    0.,    0.,    0.,\n",
        "           0.,    0.,    0.,    0.,    0.,    0.,    0.,    0.,    0.,\n",
        "           0.,    0.,    1.]),\n",
        " array([ -1.22368648e+01,  -1.21535958e+01,  -1.20703268e+01,\n",
        "         -1.19870578e+01,  -1.19037887e+01,  -1.18205197e+01,\n",
        "         -1.17372507e+01,  -1.16539817e+01,  -1.15707127e+01,\n",
        "         -1.14874437e+01,  -1.14041747e+01,  -1.13209057e+01,\n",
        "         -1.12376367e+01,  -1.11543677e+01,  -1.10710987e+01,\n",
        "         -1.09878297e+01,  -1.09045606e+01,  -1.08212916e+01,\n",
        "         -1.07380226e+01,  -1.06547536e+01,  -1.05714846e+01,\n",
        "         -1.04882156e+01,  -1.04049466e+01,  -1.03216776e+01,\n",
        "         -1.02384086e+01,  -1.01551396e+01,  -1.00718706e+01,\n",
        "         -9.98860155e+00,  -9.90533254e+00,  -9.82206353e+00,\n",
        "         -9.73879452e+00,  -9.65552551e+00,  -9.57225650e+00,\n",
        "         -9.48898749e+00,  -9.40571848e+00,  -9.32244948e+00,\n",
        "         -9.23918047e+00,  -9.15591146e+00,  -9.07264245e+00,\n",
        "         -8.98937344e+00,  -8.90610443e+00,  -8.82283542e+00,\n",
        "         -8.73956641e+00,  -8.65629741e+00,  -8.57302840e+00,\n",
        "         -8.48975939e+00,  -8.40649038e+00,  -8.32322137e+00,\n",
        "         -8.23995236e+00,  -8.15668335e+00,  -8.07341435e+00,\n",
        "         -7.99014534e+00,  -7.90687633e+00,  -7.82360732e+00,\n",
        "         -7.74033831e+00,  -7.65706930e+00,  -7.57380029e+00,\n",
        "         -7.49053128e+00,  -7.40726228e+00,  -7.32399327e+00,\n",
        "         -7.24072426e+00,  -7.15745525e+00,  -7.07418624e+00,\n",
        "         -6.99091723e+00,  -6.90764822e+00,  -6.82437921e+00,\n",
        "         -6.74111021e+00,  -6.65784120e+00,  -6.57457219e+00,\n",
        "         -6.49130318e+00,  -6.40803417e+00,  -6.32476516e+00,\n",
        "         -6.24149615e+00,  -6.15822714e+00,  -6.07495814e+00,\n",
        "         -5.99168913e+00,  -5.90842012e+00,  -5.82515111e+00,\n",
        "         -5.74188210e+00,  -5.65861309e+00,  -5.57534408e+00,\n",
        "         -5.49207507e+00,  -5.40880607e+00,  -5.32553706e+00,\n",
        "         -5.24226805e+00,  -5.15899904e+00,  -5.07573003e+00,\n",
        "         -4.99246102e+00,  -4.90919201e+00,  -4.82592300e+00,\n",
        "         -4.74265400e+00,  -4.65938499e+00,  -4.57611598e+00,\n",
        "         -4.49284697e+00,  -4.40957796e+00,  -4.32630895e+00,\n",
        "         -4.24303994e+00,  -4.15977093e+00,  -4.07650193e+00,\n",
        "         -3.99323292e+00,  -3.90996391e+00,  -3.82669490e+00,\n",
        "         -3.74342589e+00,  -3.66015688e+00,  -3.57688787e+00,\n",
        "         -3.49361887e+00,  -3.41034986e+00,  -3.32708085e+00,\n",
        "         -3.24381184e+00,  -3.16054283e+00,  -3.07727382e+00,\n",
        "         -2.99400481e+00,  -2.91073580e+00,  -2.82746680e+00,\n",
        "         -2.74419779e+00,  -2.66092878e+00,  -2.57765977e+00,\n",
        "         -2.49439076e+00,  -2.41112175e+00,  -2.32785274e+00,\n",
        "         -2.24458373e+00,  -2.16131473e+00,  -2.07804572e+00,\n",
        "         -1.99477671e+00,  -1.91150770e+00,  -1.82823869e+00,\n",
        "         -1.74496968e+00,  -1.66170067e+00,  -1.57843166e+00,\n",
        "         -1.49516266e+00,  -1.41189365e+00,  -1.32862464e+00,\n",
        "         -1.24535563e+00,  -1.16208662e+00,  -1.07881761e+00,\n",
        "         -9.95548603e-01,  -9.12279595e-01,  -8.29010586e-01,\n",
        "         -7.45741577e-01,  -6.62472568e-01,  -5.79203560e-01,\n",
        "         -4.95934551e-01,  -4.12665542e-01,  -3.29396534e-01,\n",
        "         -2.46127525e-01,  -1.62858516e-01,  -7.95895074e-02,\n",
        "          3.67950137e-03,   8.69485101e-02,   1.70217519e-01,\n",
        "          2.53486528e-01,   3.36755536e-01,   4.20024545e-01,\n",
        "          5.03293554e-01,   5.86562562e-01,   6.69831571e-01,\n",
        "          7.53100580e-01,   8.36369589e-01,   9.19638597e-01,\n",
        "          1.00290761e+00,   1.08617661e+00,   1.16944562e+00,\n",
        "          1.25271463e+00,   1.33598364e+00,   1.41925265e+00,\n",
        "          1.50252166e+00,   1.58579067e+00,   1.66905968e+00,\n",
        "          1.75232868e+00,   1.83559769e+00,   1.91886670e+00,\n",
        "          2.00213571e+00,   2.08540472e+00,   2.16867373e+00,\n",
        "          2.25194274e+00,   2.33521175e+00,   2.41848075e+00,\n",
        "          2.50174976e+00,   2.58501877e+00,   2.66828778e+00,\n",
        "          2.75155679e+00,   2.83482580e+00,   2.91809481e+00,\n",
        "          3.00136382e+00,   3.08463282e+00,   3.16790183e+00,\n",
        "          3.25117084e+00,   3.33443985e+00,   3.41770886e+00,\n",
        "          3.50097787e+00,   3.58424688e+00,   3.66751589e+00,\n",
        "          3.75078489e+00,   3.83405390e+00,   3.91732291e+00,\n",
        "          4.00059192e+00,   4.08386093e+00,   4.16712994e+00,\n",
        "          4.25039895e+00,   4.33366796e+00,   4.41693696e+00,\n",
        "          4.50020597e+00,   4.58347498e+00,   4.66674399e+00,\n",
        "          4.75001300e+00,   4.83328201e+00,   4.91655102e+00,\n",
        "          4.99982002e+00,   5.08308903e+00,   5.16635804e+00,\n",
        "          5.24962705e+00,   5.33289606e+00,   5.41616507e+00,\n",
        "          5.49943408e+00,   5.58270309e+00,   5.66597209e+00,\n",
        "          5.74924110e+00,   5.83251011e+00,   5.91577912e+00,\n",
        "          5.99904813e+00,   6.08231714e+00,   6.16558615e+00,\n",
        "          6.24885516e+00,   6.33212416e+00,   6.41539317e+00,\n",
        "          6.49866218e+00,   6.58193119e+00,   6.66520020e+00,\n",
        "          6.74846921e+00,   6.83173822e+00,   6.91500723e+00,\n",
        "          6.99827623e+00,   7.08154524e+00,   7.16481425e+00,\n",
        "          7.24808326e+00,   7.33135227e+00,   7.41462128e+00,\n",
        "          7.49789029e+00,   7.58115930e+00,   7.66442830e+00,\n",
        "          7.74769731e+00,   7.83096632e+00,   7.91423533e+00,\n",
        "          7.99750434e+00,   8.08077335e+00,   8.16404236e+00,\n",
        "          8.24731137e+00,   8.33058037e+00,   8.41384938e+00,\n",
        "          8.49711839e+00,   8.58038740e+00,   8.66365641e+00,\n",
        "          8.74692542e+00,   8.83019443e+00,   8.91346344e+00,\n",
        "          8.99673244e+00,   9.08000145e+00,   9.16327046e+00,\n",
        "          9.24653947e+00,   9.32980848e+00,   9.41307749e+00,\n",
        "          9.49634650e+00,   9.57961550e+00,   9.66288451e+00,\n",
        "          9.74615352e+00,   9.82942253e+00,   9.91269154e+00,\n",
        "          9.99596055e+00,   1.00792296e+01,   1.01624986e+01,\n",
        "          1.02457676e+01,   1.03290366e+01,   1.04123056e+01,\n",
        "          1.04955746e+01,   1.05788436e+01,   1.06621126e+01,\n",
        "          1.07453816e+01,   1.08286506e+01,   1.09119196e+01,\n",
        "          1.09951887e+01,   1.10784577e+01,   1.11617267e+01,\n",
        "          1.12449957e+01,   1.13282647e+01,   1.14115337e+01,\n",
        "          1.14948027e+01,   1.15780717e+01,   1.16613407e+01,\n",
        "          1.17446097e+01,   1.18278787e+01,   1.19111477e+01,\n",
        "          1.19944168e+01,   1.20776858e+01,   1.21609548e+01,\n",
        "          1.22442238e+01,   1.23274928e+01,   1.24107618e+01,\n",
        "          1.24940308e+01,   1.25772998e+01,   1.26605688e+01,\n",
        "          1.27438378e+01]),\n",
        " <a list of 300 Patch objects>)"
       ]
      },
      {
       "metadata": {},
       "output_type": "display_data",
       "png": "[encoded data removed]",
       "text": [
        "<matplotlib.figure.Figure at 0xb941170>"
       ]
      }
     ],
     "prompt_number": 53
    },
    {
     "cell_type": "code",
     "collapsed": false,
     "input": [],
     "language": "python",
     "metadata": {},
     "outputs": []
    }
   ],
   "metadata": {}
  }
 ]
}